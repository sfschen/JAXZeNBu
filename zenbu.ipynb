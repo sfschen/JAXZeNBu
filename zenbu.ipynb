{
 "cells": [
  {
   "cell_type": "code",
   "execution_count": 6,
   "id": "9b3c51e1",
   "metadata": {},
   "outputs": [],
   "source": [
    "import numpy as np\n",
    "\n",
    "import time\n",
    "\n",
    "import jax.numpy as jnp\n",
    "\n",
    "from jax import config\n",
    "from jax import jit\n",
    "\n",
    "config.update(\"jax_enable_x64\", True)\n",
    "\n",
    "\n",
    "from matplotlib import pyplot as plt"
   ]
  },
  {
   "cell_type": "code",
   "execution_count": null,
   "id": "1210ba76",
   "metadata": {},
   "outputs": [],
   "source": []
  },
  {
   "cell_type": "code",
   "execution_count": 7,
   "id": "b856818b",
   "metadata": {},
   "outputs": [],
   "source": [
    "import numpy as np\n",
    "klin, plin = np.loadtxt('Pk_Planck15_Table4.txt', unpack=True);"
   ]
  },
  {
   "cell_type": "code",
   "execution_count": null,
   "id": "12022164",
   "metadata": {},
   "outputs": [],
   "source": []
  },
  {
   "cell_type": "code",
   "execution_count": 8,
   "id": "ee4b44ac",
   "metadata": {},
   "outputs": [],
   "source": [
    "from zenbu import Zenbu"
   ]
  },
  {
   "cell_type": "code",
   "execution_count": 9,
   "id": "17ae2a38",
   "metadata": {},
   "outputs": [],
   "source": [
    "modPT = Zenbu(klin,plin,jn=5)"
   ]
  },
  {
   "cell_type": "code",
   "execution_count": null,
   "id": "339883ce",
   "metadata": {},
   "outputs": [],
   "source": []
  },
  {
   "cell_type": "code",
   "execution_count": 10,
   "id": "f32fa95b",
   "metadata": {},
   "outputs": [
    {
     "name": "stdout",
     "output_type": "stream",
     "text": [
      "0.7518467903137207\n"
     ]
    }
   ],
   "source": [
    "t1 = time.time()\n",
    "modPT.p_integrals(1.0)\n",
    "t2 = time.time()\n",
    "print(t2-t1)"
   ]
  },
  {
   "cell_type": "code",
   "execution_count": 11,
   "id": "56773977",
   "metadata": {},
   "outputs": [
    {
     "name": "stdout",
     "output_type": "stream",
     "text": [
      "0.0023360252380371094\n"
     ]
    }
   ],
   "source": [
    "pjit =jit(modPT.p_integrals)\n",
    "pjit(1.0)\n",
    "\n",
    "t1 = time.time()\n",
    "pjit(1.0)\n",
    "t2 = time.time()\n",
    "print(t2-t1)"
   ]
  },
  {
   "cell_type": "code",
   "execution_count": null,
   "id": "ad992c4a",
   "metadata": {},
   "outputs": [],
   "source": []
  },
  {
   "cell_type": "code",
   "execution_count": null,
   "id": "0982be78",
   "metadata": {},
   "outputs": [],
   "source": []
  },
  {
   "cell_type": "code",
   "execution_count": 12,
   "id": "0f9f9168",
   "metadata": {},
   "outputs": [
    {
     "name": "stdout",
     "output_type": "stream",
     "text": [
      "1.020900011062622\n"
     ]
    }
   ],
   "source": [
    "t1 = time.time()\n",
    "ptable = modPT.make_ptable()\n",
    "t2 = time.time()\n",
    "\n",
    "print(t2-t1)"
   ]
  },
  {
   "cell_type": "code",
   "execution_count": 13,
   "id": "caabfc90",
   "metadata": {},
   "outputs": [
    {
     "name": "stdout",
     "output_type": "stream",
     "text": [
      "0.22844910621643066\n"
     ]
    }
   ],
   "source": [
    "t1 = time.time()\n",
    "ptable = modPT.make_ptable()\n",
    "t2 = time.time()\n",
    "\n",
    "print(t2-t1)"
   ]
  },
  {
   "cell_type": "code",
   "execution_count": null,
   "id": "3ece8486",
   "metadata": {},
   "outputs": [],
   "source": []
  },
  {
   "cell_type": "code",
   "execution_count": null,
   "id": "df2c4696",
   "metadata": {},
   "outputs": [],
   "source": []
  },
  {
   "cell_type": "code",
   "execution_count": null,
   "id": "0366025e",
   "metadata": {},
   "outputs": [],
   "source": [
    "plt.loglog(ptable[:,0], ptable[:,1], label=r'$(1,1)$')\n",
    "plt.loglog(ptable[:,0], ptable[:,2], label=r'$(1,\\delta)$')\n",
    "plt.loglog(ptable[:,0], ptable[:,3], label=r'$(\\delta,\\delta)$')\n",
    "plt.loglog(ptable[:,0], ptable[:,4], label=r'$(1,\\delta^2)$')\n",
    "plt.loglog(ptable[:,0], ptable[:,5], label=r'$(\\delta,\\delta^2)$')\n",
    "plt.loglog(ptable[:,0], ptable[:,6], label=r'$(\\delta^2,\\delta^2)$')\n",
    "\n",
    "\n",
    "\n",
    "plt.legend()\n",
    "\n",
    "plt.xlim(1e-3,1)\n",
    "plt.ylim(1e1,5e4)"
   ]
  },
  {
   "cell_type": "code",
   "execution_count": null,
   "id": "4158135d",
   "metadata": {},
   "outputs": [],
   "source": []
  },
  {
   "cell_type": "code",
   "execution_count": null,
   "id": "4bb5dacc",
   "metadata": {},
   "outputs": [],
   "source": []
  },
  {
   "cell_type": "code",
   "execution_count": null,
   "id": "977f1990",
   "metadata": {},
   "outputs": [],
   "source": []
  },
  {
   "cell_type": "code",
   "execution_count": null,
   "id": "7fa2c879",
   "metadata": {},
   "outputs": [],
   "source": []
  },
  {
   "cell_type": "code",
   "execution_count": null,
   "id": "30ecb8c5",
   "metadata": {},
   "outputs": [],
   "source": []
  },
  {
   "cell_type": "code",
   "execution_count": null,
   "id": "585177a3",
   "metadata": {},
   "outputs": [],
   "source": []
  },
  {
   "cell_type": "code",
   "execution_count": null,
   "id": "405aac4d",
   "metadata": {},
   "outputs": [],
   "source": []
  },
  {
   "cell_type": "code",
   "execution_count": null,
   "id": "e8ea3d77",
   "metadata": {},
   "outputs": [],
   "source": []
  },
  {
   "cell_type": "code",
   "execution_count": null,
   "id": "b021777b",
   "metadata": {},
   "outputs": [],
   "source": []
  },
  {
   "cell_type": "code",
   "execution_count": null,
   "id": "a76ce834",
   "metadata": {},
   "outputs": [],
   "source": []
  },
  {
   "cell_type": "code",
   "execution_count": null,
   "id": "24574580",
   "metadata": {},
   "outputs": [],
   "source": []
  },
  {
   "cell_type": "code",
   "execution_count": null,
   "id": "856c6866",
   "metadata": {},
   "outputs": [],
   "source": []
  }
 ],
 "metadata": {
  "kernelspec": {
   "display_name": "Python 3 (ipykernel)",
   "language": "python",
   "name": "python3"
  },
  "language_info": {
   "codemirror_mode": {
    "name": "ipython",
    "version": 3
   },
   "file_extension": ".py",
   "mimetype": "text/x-python",
   "name": "python",
   "nbconvert_exporter": "python",
   "pygments_lexer": "ipython3",
   "version": "3.10.11"
  }
 },
 "nbformat": 4,
 "nbformat_minor": 5
}
