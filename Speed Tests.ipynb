{
 "cells": [
  {
   "cell_type": "code",
   "execution_count": 1,
   "id": "55c5e1bd",
   "metadata": {},
   "outputs": [
    {
     "name": "stdout",
     "output_type": "stream",
     "text": [
      "Intel MKL WARNING: Support of Intel(R) Streaming SIMD Extensions 4.2 (Intel(R) SSE4.2) enabled only processors has been deprecated. Intel oneAPI Math Kernel Library 2025.0 will require Intel(R) Advanced Vector Extensions (Intel(R) AVX) instructions.\n",
      "Intel MKL WARNING: Support of Intel(R) Streaming SIMD Extensions 4.2 (Intel(R) SSE4.2) enabled only processors has been deprecated. Intel oneAPI Math Kernel Library 2025.0 will require Intel(R) Advanced Vector Extensions (Intel(R) AVX) instructions.\n"
     ]
    }
   ],
   "source": [
    "import numpy as np\n",
    "\n",
    "import jax.numpy as jnp\n",
    "\n",
    "from jax import config\n",
    "\n",
    "config.update(\"jax_enable_x64\", True)\n",
    "\n",
    "from matplotlib import pyplot as plt"
   ]
  },
  {
   "cell_type": "code",
   "execution_count": null,
   "id": "4db9c226",
   "metadata": {},
   "outputs": [],
   "source": []
  },
  {
   "cell_type": "code",
   "execution_count": null,
   "id": "471570f7",
   "metadata": {},
   "outputs": [],
   "source": [
    "from Utils.loginterp_jax import loginterp_jax\n",
    "\n",
    "klin, plin = np.loadtxt('Pk_Planck15_Table4.txt', unpack=True);\n",
    "\n",
    "extrap_min = -5\n",
    "extrap_max = 3\n",
    "N = 2000\n",
    "\n",
    "kint = jnp.logspace(extrap_min,extrap_max,N)\n",
    "pint = loginterp_jax(klin,plin)(kint)"
   ]
  },
  {
   "cell_type": "code",
   "execution_count": null,
   "id": "0bc0c06d",
   "metadata": {},
   "outputs": [],
   "source": []
  },
  {
   "cell_type": "code",
   "execution_count": null,
   "id": "ce547a23",
   "metadata": {},
   "outputs": [],
   "source": [
    "plt.loglog(kint, pint)"
   ]
  },
  {
   "cell_type": "code",
   "execution_count": null,
   "id": "89451aab",
   "metadata": {},
   "outputs": [],
   "source": []
  },
  {
   "cell_type": "code",
   "execution_count": null,
   "id": "95bb3f53",
   "metadata": {},
   "outputs": [],
   "source": [
    "from transfer_functions_update_pk import Zenbu"
   ]
  },
  {
   "cell_type": "code",
   "execution_count": null,
   "id": "c3b401d1",
   "metadata": {},
   "outputs": [],
   "source": [
    "modPT = Zenbu(kint, pint,jn=5)"
   ]
  },
  {
   "cell_type": "code",
   "execution_count": null,
   "id": "b1704c53",
   "metadata": {},
   "outputs": [],
   "source": []
  },
  {
   "cell_type": "code",
   "execution_count": null,
   "id": "046a07d2",
   "metadata": {},
   "outputs": [],
   "source": [
    "import time\n",
    "\n",
    "t1 = time.time()\n",
    "ptable = modPT.make_ptable()\n",
    "t2 = time.time()\n",
    "\n",
    "print(t2-t1)"
   ]
  },
  {
   "cell_type": "code",
   "execution_count": null,
   "id": "36dd86a2",
   "metadata": {},
   "outputs": [],
   "source": []
  },
  {
   "cell_type": "code",
   "execution_count": null,
   "id": "8fdd44da",
   "metadata": {},
   "outputs": [],
   "source": [
    "from jax import jit\n",
    "\n",
    "def ptable_func(pint):\n",
    "    modPT.update_power_spectrum(pint)\n",
    "    ptable = modPT.make_ptable()\n",
    "    return ptable\n",
    "\n",
    "ptable_jit = jit(ptable_func)\n",
    "ptable_jit(pint)\n",
    "\n",
    "t1 = time.time()\n",
    "ptable = ptable_jit(pint)\n",
    "t2 = time.time()\n",
    "\n",
    "print(t2-t1)"
   ]
  },
  {
   "cell_type": "code",
   "execution_count": null,
   "id": "75abcb1a",
   "metadata": {},
   "outputs": [],
   "source": []
  },
  {
   "cell_type": "code",
   "execution_count": null,
   "id": "e8b1dd85",
   "metadata": {},
   "outputs": [],
   "source": [
    "extrap_min = -3.5\n",
    "extrap_max = 1\n",
    "N = 500\n",
    "\n",
    "kint = jnp.logspace(extrap_min,extrap_max,N)\n",
    "pint = loginterp_jax(klin,plin)(kint)"
   ]
  },
  {
   "cell_type": "code",
   "execution_count": null,
   "id": "40038795",
   "metadata": {},
   "outputs": [],
   "source": [
    "modPT = Zenbu(kint, pint,jn=5, kmin=0.05, kmax=0.3, nk=100)"
   ]
  },
  {
   "cell_type": "code",
   "execution_count": null,
   "id": "ea96357a",
   "metadata": {},
   "outputs": [],
   "source": [
    "def ptable_func(pint):\n",
    "    modPT.update_power_spectrum(pint)\n",
    "    ptable = modPT.make_ptable()\n",
    "    return ptable\n",
    "\n",
    "ptable_jit = jit(ptable_func)\n",
    "ptable_jit(pint)\n",
    "\n",
    "t1 = time.time()\n",
    "ptable2 = ptable_jit(pint)\n",
    "t2 = time.time()\n",
    "\n",
    "print(t2-t1)"
   ]
  },
  {
   "cell_type": "code",
   "execution_count": null,
   "id": "cc31c543",
   "metadata": {},
   "outputs": [],
   "source": [
    "ptable2.shape"
   ]
  },
  {
   "cell_type": "code",
   "execution_count": null,
   "id": "c3980049",
   "metadata": {},
   "outputs": [],
   "source": [
    "plt.plot(ptable[:,0], ptable[:,0] * ptable[:,1])\n",
    "plt.plot(ptable2[:,0], ptable2[:,0] * ptable2[:,1] ,'--')\n",
    "\n",
    "plt.xlim(0.05, 0.3)\n",
    "plt.ylim(300,700)"
   ]
  },
  {
   "cell_type": "code",
   "execution_count": null,
   "id": "ee9119ea",
   "metadata": {},
   "outputs": [],
   "source": []
  },
  {
   "cell_type": "code",
   "execution_count": null,
   "id": "16d5b3e2",
   "metadata": {},
   "outputs": [],
   "source": [
    "plt.plot(ptable[:,0], np.interp(ptable[:,0],ptable2[:,0], ptable2[:,1]) / ptable[:,1] - 1)\n",
    "plt.plot(ptable[:,0], ptable[:,0]**2 * 0.15)\n",
    "\n",
    "plt.xlim(0.06, 0.29)\n",
    "plt.ylim(-0.02,0.02)"
   ]
  },
  {
   "cell_type": "code",
   "execution_count": null,
   "id": "1866c2f9",
   "metadata": {},
   "outputs": [],
   "source": []
  },
  {
   "cell_type": "code",
   "execution_count": null,
   "id": "00c4a999",
   "metadata": {},
   "outputs": [],
   "source": [
    "modPT = Zenbu(kint, pint,jn=5, kmin=0.05, kmax=0.3, nk=30)\n",
    "\n",
    "def ptable_func(pint):\n",
    "    modPT.update_power_spectrum(pint)\n",
    "    ptable = modPT.make_ptable()\n",
    "    return ptable\n",
    "\n",
    "ptable_jit = jit(ptable_func)\n",
    "ptable_jit(pint)\n",
    "\n",
    "t1 = time.time()\n",
    "ptable2 = ptable_jit(pint)\n",
    "t2 = time.time()\n",
    "\n",
    "print(t2-t1)"
   ]
  },
  {
   "cell_type": "code",
   "execution_count": null,
   "id": "63eb3d99",
   "metadata": {},
   "outputs": [],
   "source": [
    "ii = 4\n",
    "\n",
    "plt.plot(ptable[:,0], ptable[:,0] * ptable[:,ii])\n",
    "plt.plot(ptable2[:,0], ptable2[:,0] * ptable2[:,ii] ,'o')\n",
    "\n",
    "plt.xlim(0.05, 0.3)\n",
    "#plt.ylim(300,700)"
   ]
  },
  {
   "cell_type": "code",
   "execution_count": null,
   "id": "b57a28ef",
   "metadata": {},
   "outputs": [],
   "source": [
    "plt.plot(ptable[:,0], np.interp(ptable[:,0],ptable2[:,0], ptable2[:,ii]) / ptable[:,ii] - 1)\n",
    "plt.plot(ptable[:,0], ptable[:,0]**2 * 0.15)\n",
    "\n",
    "plt.xlim(0.06, 0.29)\n",
    "plt.ylim(-0.01,0.01)"
   ]
  },
  {
   "cell_type": "code",
   "execution_count": null,
   "id": "2aef80dc",
   "metadata": {},
   "outputs": [],
   "source": []
  },
  {
   "cell_type": "code",
   "execution_count": null,
   "id": "6c2974c4",
   "metadata": {},
   "outputs": [],
   "source": [
    "from scipy.interpolate import interp1d"
   ]
  },
  {
   "cell_type": "code",
   "execution_count": null,
   "id": "aed6d86f",
   "metadata": {},
   "outputs": [],
   "source": [
    "ii = 4\n",
    "\n",
    "plt.plot(ptable[:,0], interp1d(ptable2[:,0], ptable2[:,ii], kind='cubic',bounds_error=False)(ptable[:,0]) / ptable[:,ii] - 1)\n",
    "plt.plot(ptable[:,0], ptable[:,0]**2 * (-0.05))\n",
    "\n",
    "plt.xlim(0.06, 0.29)\n",
    "plt.ylim(-0.01,0.01)"
   ]
  },
  {
   "cell_type": "code",
   "execution_count": null,
   "id": "f975ff03",
   "metadata": {},
   "outputs": [],
   "source": []
  },
  {
   "cell_type": "code",
   "execution_count": null,
   "id": "0e520589",
   "metadata": {},
   "outputs": [],
   "source": []
  },
  {
   "cell_type": "code",
   "execution_count": null,
   "id": "55bee6c9",
   "metadata": {},
   "outputs": [],
   "source": []
  }
 ],
 "metadata": {
  "kernelspec": {
   "display_name": "Python 3 (ipykernel)",
   "language": "python",
   "name": "python3"
  },
  "language_info": {
   "codemirror_mode": {
    "name": "ipython",
    "version": 3
   },
   "file_extension": ".py",
   "mimetype": "text/x-python",
   "name": "python",
   "nbconvert_exporter": "python",
   "pygments_lexer": "ipython3",
   "version": "3.10.11"
  }
 },
 "nbformat": 4,
 "nbformat_minor": 5
}
